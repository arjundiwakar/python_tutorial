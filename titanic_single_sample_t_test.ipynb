{
  "metadata": {
    "kernelspec": {
      "language": "python",
      "display_name": "Python 3",
      "name": "python3"
    },
    "language_info": {
      "name": "python",
      "version": "3.7.12",
      "mimetype": "text/x-python",
      "codemirror_mode": {
        "name": "ipython",
        "version": 3
      },
      "pygments_lexer": "ipython3",
      "nbconvert_exporter": "python",
      "file_extension": ".py"
    },
    "kaggle": {
      "accelerator": "none",
      "dataSources": [
        {
          "sourceId": 3136,
          "databundleVersionId": 26502,
          "sourceType": "competition"
        }
      ],
      "dockerImageVersionId": 30458,
      "isInternetEnabled": false,
      "language": "python",
      "sourceType": "notebook",
      "isGpuEnabled": false
    },
    "colab": {
      "name": "titanic-single-sample-t-test",
      "provenance": [],
      "include_colab_link": true
    }
  },
  "nbformat_minor": 0,
  "nbformat": 4,
  "cells": [
    {
      "cell_type": "markdown",
      "metadata": {
        "id": "view-in-github",
        "colab_type": "text"
      },
      "source": [
        "<a href=\"https://colab.research.google.com/github/arjundiwakar/python_tutorial/blob/main/titanic_single_sample_t_test.ipynb\" target=\"_parent\"><img src=\"https://colab.research.google.com/assets/colab-badge.svg\" alt=\"Open In Colab\"/></a>"
      ]
    },
    {
      "source": [
        "# IMPORTANT: SOME KAGGLE DATA SOURCES ARE PRIVATE\n",
        "# RUN THIS CELL IN ORDER TO IMPORT YOUR KAGGLE DATA SOURCES.\n",
        "import kagglehub\n",
        "kagglehub.login()\n"
      ],
      "metadata": {
        "id": "TPlP-jB38Qv1"
      },
      "cell_type": "code",
      "outputs": [],
      "execution_count": null
    },
    {
      "source": [
        "# IMPORTANT: RUN THIS CELL IN ORDER TO IMPORT YOUR KAGGLE DATA SOURCES,\n",
        "# THEN FEEL FREE TO DELETE THIS CELL.\n",
        "# NOTE: THIS NOTEBOOK ENVIRONMENT DIFFERS FROM KAGGLE'S PYTHON\n",
        "# ENVIRONMENT SO THERE MAY BE MISSING LIBRARIES USED BY YOUR\n",
        "# NOTEBOOK.\n",
        "\n",
        "titanic_path = kagglehub.competition_download('titanic')\n",
        "\n",
        "print('Data source import complete.')\n"
      ],
      "metadata": {
        "id": "Iz4VRdsz8Qv3"
      },
      "cell_type": "code",
      "outputs": [],
      "execution_count": null
    },
    {
      "cell_type": "code",
      "source": [
        "# This Python 3 environment comes with many helpful analytics libraries installed\n",
        "# It is defined by the kaggle/python Docker image: https://github.com/kaggle/docker-python\n",
        "# For example, here's several helpful packages to load\n",
        "\n",
        "import numpy as np # linear algebra\n",
        "import pandas as pd # data processing, CSV file I/O (e.g. pd.read_csv)\n",
        "\n",
        "# Input data files are available in the read-only \"../input/\" directory\n",
        "# For example, running this (by clicking run or pressing Shift+Enter) will list all files under the input directory\n",
        "\n",
        "import os\n",
        "for dirname, _, filenames in os.walk('/kaggle/input'):\n",
        "    for filename in filenames:\n",
        "        print(os.path.join(dirname, filename))\n",
        "\n",
        "# You can write up to 20GB to the current directory (/kaggle/working/) that gets preserved as output when you create a version using \"Save & Run All\"\n",
        "# You can also write temporary files to /kaggle/temp/, but they won't be saved outside of the current session"
      ],
      "metadata": {
        "_uuid": "8f2839f25d086af736a60e9eeb907d3b93b6e0e5",
        "_cell_guid": "b1076dfc-b9ad-4769-8c92-a6c4dae69d19",
        "execution": {
          "iopub.status.busy": "2025-08-05T06:26:00.714161Z",
          "iopub.execute_input": "2025-08-05T06:26:00.714975Z",
          "iopub.status.idle": "2025-08-05T06:26:00.724209Z",
          "shell.execute_reply.started": "2025-08-05T06:26:00.714933Z",
          "shell.execute_reply": "2025-08-05T06:26:00.723136Z"
        },
        "trusted": true,
        "id": "05gJSMAP8Qv4",
        "outputId": "8f3b40c0-c29b-40c8-f39f-3c1386071815"
      },
      "outputs": [
        {
          "name": "stdout",
          "text": "/kaggle/input/titanic/train.csv\n/kaggle/input/titanic/test.csv\n/kaggle/input/titanic/gender_submission.csv\n",
          "output_type": "stream"
        }
      ],
      "execution_count": null
    },
    {
      "cell_type": "code",
      "source": [
        "train = pd.read_csv('/kaggle/input/titanic/train.csv').drop(columns=['Survived'])\n",
        "test = pd.read_csv('/kaggle/input/titanic/test.csv')"
      ],
      "metadata": {
        "execution": {
          "iopub.status.busy": "2025-08-05T06:26:04.234322Z",
          "iopub.execute_input": "2025-08-05T06:26:04.235282Z",
          "iopub.status.idle": "2025-08-05T06:26:04.252721Z",
          "shell.execute_reply.started": "2025-08-05T06:26:04.23524Z",
          "shell.execute_reply": "2025-08-05T06:26:04.251777Z"
        },
        "trusted": true,
        "id": "qV898EgB8Qv5"
      },
      "outputs": [],
      "execution_count": null
    },
    {
      "cell_type": "code",
      "source": [
        "final_df = pd.concat([train,test]).sample(1309)"
      ],
      "metadata": {
        "execution": {
          "iopub.status.busy": "2025-08-05T06:26:09.717929Z",
          "iopub.execute_input": "2025-08-05T06:26:09.718737Z",
          "iopub.status.idle": "2025-08-05T06:26:09.728615Z",
          "shell.execute_reply.started": "2025-08-05T06:26:09.718697Z",
          "shell.execute_reply": "2025-08-05T06:26:09.727596Z"
        },
        "trusted": true,
        "id": "-oIR4iv98Qv5"
      },
      "outputs": [],
      "execution_count": null
    },
    {
      "cell_type": "code",
      "source": [
        "pop = final_df['Age'].dropna()"
      ],
      "metadata": {
        "execution": {
          "iopub.status.busy": "2025-08-05T06:26:11.724516Z",
          "iopub.execute_input": "2025-08-05T06:26:11.725055Z",
          "iopub.status.idle": "2025-08-05T06:26:11.73109Z",
          "shell.execute_reply.started": "2025-08-05T06:26:11.725016Z",
          "shell.execute_reply": "2025-08-05T06:26:11.729886Z"
        },
        "trusted": true,
        "id": "GEjFHWRK8Qv6"
      },
      "outputs": [],
      "execution_count": null
    },
    {
      "cell_type": "code",
      "source": [
        "pop.mean()"
      ],
      "metadata": {
        "execution": {
          "iopub.status.busy": "2025-08-05T06:26:14.919658Z",
          "iopub.execute_input": "2025-08-05T06:26:14.920868Z",
          "iopub.status.idle": "2025-08-05T06:26:14.928089Z",
          "shell.execute_reply.started": "2025-08-05T06:26:14.920784Z",
          "shell.execute_reply": "2025-08-05T06:26:14.926689Z"
        },
        "trusted": true,
        "id": "4yK0kNsP8Qv6",
        "outputId": "ebcfe97c-cfae-4338-d0b4-506a4a57bc88"
      },
      "outputs": [
        {
          "execution_count": 23,
          "output_type": "execute_result",
          "data": {
            "text/plain": "29.881137667304014"
          },
          "metadata": {}
        }
      ],
      "execution_count": null
    },
    {
      "cell_type": "code",
      "source": [
        "sample_age = pop.sample(25).values"
      ],
      "metadata": {
        "execution": {
          "iopub.status.busy": "2025-08-05T06:26:17.894423Z",
          "iopub.execute_input": "2025-08-05T06:26:17.895107Z",
          "iopub.status.idle": "2025-08-05T06:26:17.900429Z",
          "shell.execute_reply.started": "2025-08-05T06:26:17.895066Z",
          "shell.execute_reply": "2025-08-05T06:26:17.899281Z"
        },
        "trusted": true,
        "id": "aBgZX8py8Qv6"
      },
      "outputs": [],
      "execution_count": null
    },
    {
      "cell_type": "code",
      "source": [
        "sample_age.shape"
      ],
      "metadata": {
        "trusted": true,
        "execution": {
          "iopub.status.busy": "2025-08-05T06:26:22.20766Z",
          "iopub.execute_input": "2025-08-05T06:26:22.208652Z",
          "iopub.status.idle": "2025-08-05T06:26:22.215341Z",
          "shell.execute_reply.started": "2025-08-05T06:26:22.20861Z",
          "shell.execute_reply": "2025-08-05T06:26:22.214123Z"
        },
        "id": "ChS0RVp28Qv7",
        "outputId": "1c6f3cf1-49a5-4e81-9ac3-67103c5277e6"
      },
      "outputs": [
        {
          "execution_count": 25,
          "output_type": "execute_result",
          "data": {
            "text/plain": "(25,)"
          },
          "metadata": {}
        }
      ],
      "execution_count": null
    },
    {
      "cell_type": "code",
      "source": [
        "sample_age"
      ],
      "metadata": {
        "execution": {
          "iopub.status.busy": "2025-08-05T06:26:25.246921Z",
          "iopub.execute_input": "2025-08-05T06:26:25.248247Z",
          "iopub.status.idle": "2025-08-05T06:26:25.255351Z",
          "shell.execute_reply.started": "2025-08-05T06:26:25.248203Z",
          "shell.execute_reply": "2025-08-05T06:26:25.254039Z"
        },
        "trusted": true,
        "id": "6PcoKaqo8Qv7",
        "outputId": "71b09510-9711-49a7-fcd9-6ccfee87c5e3"
      },
      "outputs": [
        {
          "execution_count": 26,
          "output_type": "execute_result",
          "data": {
            "text/plain": "array([17., 36., 24., 27., 29., 50., 22., 25., 24., 22., 16., 26., 29.,\n       39., 18., 45., 21., 36., 30., 45., 33., 30.,  1., 44., 38.])"
          },
          "metadata": {}
        }
      ],
      "execution_count": null
    },
    {
      "cell_type": "code",
      "source": [
        "# H0 -> The mean age is 35\n",
        "# H1 -> The mean is less than 35"
      ],
      "metadata": {
        "execution": {
          "iopub.status.busy": "2025-08-05T06:20:47.092454Z",
          "iopub.execute_input": "2025-08-05T06:20:47.092874Z",
          "iopub.status.idle": "2025-08-05T06:20:47.097848Z",
          "shell.execute_reply.started": "2025-08-05T06:20:47.092828Z",
          "shell.execute_reply": "2025-08-05T06:20:47.096661Z"
        },
        "trusted": true,
        "id": "ozd0pIMF8Qv7"
      },
      "outputs": [],
      "execution_count": null
    },
    {
      "cell_type": "code",
      "source": [
        "# check for normality using Shapiro Wilk test\n",
        "from scipy.stats import shapiro\n",
        "\n",
        "shapiro_age = shapiro(sample_age)\n",
        "\n",
        "print(shapiro_age)"
      ],
      "metadata": {
        "execution": {
          "iopub.status.busy": "2025-08-05T06:32:37.394239Z",
          "iopub.execute_input": "2025-08-05T06:32:37.395105Z",
          "iopub.status.idle": "2025-08-05T06:32:37.401228Z",
          "shell.execute_reply.started": "2025-08-05T06:32:37.395063Z",
          "shell.execute_reply": "2025-08-05T06:32:37.399831Z"
        },
        "trusted": true,
        "id": "MHZ4fhjO8Qv7",
        "outputId": "9a294b03-ee4d-4b1c-dc9e-704ad3a8e83b"
      },
      "outputs": [
        {
          "name": "stdout",
          "text": "ShapiroResult(statistic=0.9733971953392029, pvalue=0.7316205501556396)\n",
          "output_type": "stream"
        }
      ],
      "execution_count": null
    },
    {
      "cell_type": "code",
      "source": [
        "pop_mean = 35"
      ],
      "metadata": {
        "execution": {
          "iopub.status.busy": "2025-08-05T06:32:41.385103Z",
          "iopub.execute_input": "2025-08-05T06:32:41.385785Z",
          "iopub.status.idle": "2025-08-05T06:32:41.390575Z",
          "shell.execute_reply.started": "2025-08-05T06:32:41.385745Z",
          "shell.execute_reply": "2025-08-05T06:32:41.389596Z"
        },
        "trusted": true,
        "id": "6oufnrhz8Qv8"
      },
      "outputs": [],
      "execution_count": null
    },
    {
      "cell_type": "code",
      "source": [
        "import scipy.stats as stats\n",
        "\n",
        "t_statistic, p_value = stats.ttest_1samp(sample_age, pop_mean)\n",
        "\n",
        "print(\"t-statistic:\", t_statistic)\n",
        "print(\"p-value:\", p_value/2)"
      ],
      "metadata": {
        "execution": {
          "iopub.status.busy": "2025-08-05T06:32:45.100142Z",
          "iopub.execute_input": "2025-08-05T06:32:45.101489Z",
          "iopub.status.idle": "2025-08-05T06:32:45.110172Z",
          "shell.execute_reply.started": "2025-08-05T06:32:45.101429Z",
          "shell.execute_reply": "2025-08-05T06:32:45.108875Z"
        },
        "trusted": true,
        "id": "UXoBLn418Qv9",
        "outputId": "c753e190-389c-4e75-8780-e3c98c9369c9"
      },
      "outputs": [
        {
          "name": "stdout",
          "text": "t-statistic: -2.6771895380100887\np-value: 0.006588542498169026\n",
          "output_type": "stream"
        }
      ],
      "execution_count": null
    },
    {
      "cell_type": "code",
      "source": [
        "alpha = 0.05\n",
        "\n",
        "if p_value < alpha:\n",
        "    print(\"Reject the null hypothesis.\")\n",
        "else:\n",
        "    print(\"Fail to reject the null hypothesis.\")\n"
      ],
      "metadata": {
        "execution": {
          "iopub.status.busy": "2025-08-05T06:32:50.337957Z",
          "iopub.execute_input": "2025-08-05T06:32:50.338929Z",
          "iopub.status.idle": "2025-08-05T06:32:50.34461Z",
          "shell.execute_reply.started": "2025-08-05T06:32:50.338889Z",
          "shell.execute_reply": "2025-08-05T06:32:50.343413Z"
        },
        "trusted": true,
        "id": "zRWps9XX8Qv9",
        "outputId": "38389945-8fed-471d-a229-e98c55e5fda5"
      },
      "outputs": [
        {
          "name": "stdout",
          "text": "Reject the null hypothesis.\n",
          "output_type": "stream"
        }
      ],
      "execution_count": null
    },
    {
      "cell_type": "code",
      "source": [
        "pop.mean()"
      ],
      "metadata": {
        "execution": {
          "iopub.status.busy": "2025-08-05T06:33:03.817987Z",
          "iopub.execute_input": "2025-08-05T06:33:03.819013Z",
          "iopub.status.idle": "2025-08-05T06:33:03.826012Z",
          "shell.execute_reply.started": "2025-08-05T06:33:03.818972Z",
          "shell.execute_reply": "2025-08-05T06:33:03.824797Z"
        },
        "trusted": true,
        "id": "AKHB1aiU8Qv9",
        "outputId": "b8e1ee14-8cca-4101-9ed1-9726db84ca92"
      },
      "outputs": [
        {
          "execution_count": 32,
          "output_type": "execute_result",
          "data": {
            "text/plain": "29.881137667304014"
          },
          "metadata": {}
        }
      ],
      "execution_count": null
    },
    {
      "cell_type": "code",
      "source": [],
      "metadata": {
        "id": "apPn5kXE8Qv9"
      },
      "outputs": [],
      "execution_count": null
    }
  ]
}